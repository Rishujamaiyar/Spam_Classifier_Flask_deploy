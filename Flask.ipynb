{
  "nbformat": 4,
  "nbformat_minor": 0,
  "metadata": {
    "colab": {
      "name": "Flask.ipynb",
      "provenance": [],
      "collapsed_sections": [
        "uXMMkOLCwT6g"
      ]
    },
    "kernelspec": {
      "name": "python3",
      "display_name": "Python 3"
    },
    "language_info": {
      "name": "python"
    }
  },
  "cells": [
    {
      "cell_type": "markdown",
      "metadata": {
        "id": "RCX600EJLp4U"
      },
      "source": [
        "## Web Service using Flask and Ngrok"
      ]
    },
    {
      "cell_type": "code",
      "metadata": {
        "id": "J8O9sW2fLpad"
      },
      "source": [
        "!pip install flask-ngrok\n",
        "!pip install flasgger"
      ],
      "execution_count": null,
      "outputs": []
    },
    {
      "cell_type": "code",
      "metadata": {
        "id": "Hw48AoQTL6w8"
      },
      "source": [
        "from flask import Flask, request\n",
        "import numpy as np\n",
        "import pickle\n",
        "import pandas as pd\n",
        "import flasgger\n",
        "from flasgger import Swagger\n",
        "from flask_ngrok import run_with_ngrok"
      ],
      "execution_count": 3,
      "outputs": []
    },
    {
      "cell_type": "code",
      "metadata": {
        "id": "6o1leM9RL_Mb"
      },
      "source": [
        "app = Flask(__name__)\n",
        "run_with_ngrok(app) \n",
        "Swagger(app)\n",
        "\n",
        "pickle_in = open(\"classifier.pkl\",\"rb\")\n",
        "classifier=pickle.load(pickle_in)\n",
        "pickle_in.close()\n",
        "\n",
        "@app.route('/')\n",
        "def welcome():\n",
        "    return \"Welcome All\"\n",
        "\n",
        "@app.route('/predict',methods=[\"Get\"])\n",
        "def predict_spam_ham():\n",
        "    \"\"\"Let's predict Ham/Spam texts \n",
        "    ---\n",
        "    parameters:  \n",
        "      - name: text\n",
        "        in: query\n",
        "        type: string\n",
        "        required: true\n",
        "    responses:\n",
        "        200:\n",
        "            description: The output values      \n",
        "    \"\"\"\n",
        "    text = request.args.get(\"text\")\n",
        "    print(text)\n",
        "    prediction = classifier(str(text))\n",
        "    print(prediction)\n",
        "    return \"The type of the text is : \" + str(prediction)"
      ],
      "execution_count": 55,
      "outputs": []
    },
    {
      "cell_type": "code",
      "metadata": {
        "id": "0FCrBdg6MEmy",
        "colab": {
          "base_uri": "https://localhost:8080/"
        },
        "outputId": "e0585eb7-c648-406e-dc5a-f2fe358937c6"
      },
      "source": [
        "#add \"/apidocs\" at the end of the url to use flasgger\n",
        "app.run()"
      ],
      "execution_count": 56,
      "outputs": [
        {
          "output_type": "stream",
          "text": [
            " * Serving Flask app \"__main__\" (lazy loading)\n",
            " * Environment: production\n",
            "\u001b[31m   WARNING: This is a development server. Do not use it in a production deployment.\u001b[0m\n",
            "\u001b[2m   Use a production WSGI server instead.\u001b[0m\n",
            " * Debug mode: off\n"
          ],
          "name": "stdout"
        },
        {
          "output_type": "stream",
          "text": [
            " * Running on http://127.0.0.1:5000/ (Press CTRL+C to quit)\n"
          ],
          "name": "stderr"
        },
        {
          "output_type": "stream",
          "text": [
            " * Running on http://aa99de0d6dac.ngrok.io\n",
            " * Traffic stats available on http://127.0.0.1:4040\n"
          ],
          "name": "stdout"
        },
        {
          "output_type": "stream",
          "text": [
            "127.0.0.1 - - [26/May/2021 11:57:18] \"\u001b[37mGET / HTTP/1.1\u001b[0m\" 200 -\n",
            "127.0.0.1 - - [26/May/2021 11:57:19] \"\u001b[33mGET /favicon.ico HTTP/1.1\u001b[0m\" 404 -\n",
            "127.0.0.1 - - [26/May/2021 11:57:26] \"\u001b[32mGET /apidocs HTTP/1.1\u001b[0m\" 308 -\n",
            "127.0.0.1 - - [26/May/2021 11:57:26] \"\u001b[37mGET /apidocs/ HTTP/1.1\u001b[0m\" 200 -\n",
            "127.0.0.1 - - [26/May/2021 11:57:27] \"\u001b[37mGET /flasgger_static/swagger-ui.css HTTP/1.1\u001b[0m\" 200 -\n",
            "127.0.0.1 - - [26/May/2021 11:57:27] \"\u001b[37mGET /flasgger_static/swagger-ui-bundle.js HTTP/1.1\u001b[0m\" 200 -\n",
            "127.0.0.1 - - [26/May/2021 11:57:27] \"\u001b[37mGET /flasgger_static/lib/jquery.min.js HTTP/1.1\u001b[0m\" 200 -\n",
            "127.0.0.1 - - [26/May/2021 11:57:27] \"\u001b[37mGET /flasgger_static/swagger-ui-standalone-preset.js HTTP/1.1\u001b[0m\" 200 -\n",
            "127.0.0.1 - - [26/May/2021 11:57:36] \"\u001b[37mGET /apispec_1.json HTTP/1.1\u001b[0m\" 200 -\n",
            "127.0.0.1 - - [26/May/2021 11:59:18] \"\u001b[37mGET /predict?text=Congratulations!%20You%20won%20a%20Prize! HTTP/1.1\u001b[0m\" 200 -\n"
          ],
          "name": "stderr"
        },
        {
          "output_type": "stream",
          "text": [
            "Congratulations! You won a Prize!\n",
            "['spam']\n"
          ],
          "name": "stdout"
        },
        {
          "output_type": "stream",
          "text": [
            "127.0.0.1 - - [26/May/2021 12:00:07] \"\u001b[37mGET /predict?text=good%20morning%20dear%20how%20are%20you%3F HTTP/1.1\u001b[0m\" 200 -\n"
          ],
          "name": "stderr"
        },
        {
          "output_type": "stream",
          "text": [
            "good morning dear how are you?\n",
            "['ham']\n"
          ],
          "name": "stdout"
        },
        {
          "output_type": "stream",
          "text": [
            "127.0.0.1 - - [26/May/2021 12:00:30] \"\u001b[37mGET /apispec_1.json HTTP/1.1\u001b[0m\" 200 -\n"
          ],
          "name": "stderr"
        }
      ]
    },
    {
      "cell_type": "code",
      "metadata": {
        "id": "g1lMWpooOcdP"
      },
      "source": [
        ""
      ],
      "execution_count": null,
      "outputs": []
    }
  ]
}